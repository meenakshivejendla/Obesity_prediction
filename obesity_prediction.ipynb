{
 "cells": [
  {
   "cell_type": "markdown",
   "metadata": {},
   "source": [
    "# Obesity Prediction ML Project\n",
    "\n",
    "A step-by-step notebook to predict obesity levels using machine learning.\n",
    "---"
   ]
  },
  {
   "cell_type": "markdown",
   "metadata": {},
   "source": [
    "## Load Data"
   ]
  },
  {
   "cell_type": "code",
   "metadata": {},
   "source": [
    "import pandas as pd\n",
    "df = pd.read_csv('../data/obesity_data.csv')\n",
    "df.head()"
   ]
  },
  {
   "cell_type": "markdown",
   "metadata": {},
   "source": [
    "## Data Preprocessing"
   ]
  },
  {
   "cell_type": "code",
   "metadata": {},
   "source": [
    "from preprocess import clean_data, encode_features, scale_features, balance_classes\n",
    "df = clean_data(df)\n",
    "df = encode_features(df)\n",
    "X = df.drop('ObesityLevel', axis=1)\n",
    "y = df['ObesityLevel']\n",
    "X_scaled, scaler = scale_features(X)\n",
    "X_res, y_res = balance_classes(X_scaled, y)"
   ]
  },
  {
   "cell_type": "markdown",
   "metadata": {},
   "source": [
    "## Feature Selection"
   ]
  },
  {
   "cell_type": "code",
   "metadata": {},
   "source": [
    "from feature_selection import select_k_best\n",
    "X_best, selected_features = select_k_best(pd.DataFrame(X_res, columns=X.columns), y_res, k=5)\n",
    "X_best = pd.DataFrame(X_best, columns=selected_features)"
   ]
  },
  {
   "cell_type": "markdown",
   "metadata": {},
   "source": [
    "## Modeling & Evaluation"
   ]
  },
  {
   "cell_type": "code",
   "metadata": {},
   "source": [
    "from modeling import train_and_evaluate\n",
    "results = train_and_evaluate(X_best, y_res)\n",
    "for model_name, res in results.items():\n",
    "    print(f'-- {model_name} --')\n",
    "    for k, v in res.items():\n",
    "        print(f'{k}: {v}')"
   ]
  },
  {
   "cell_type": "markdown",
   "metadata": {},
   "source": [
    "## Visualize Confusion Matrix (example for Random Forest)"
   ]
  },
  {
   "cell_type": "code",
   "metadata": {},
   "source": [
    "from sklearn.model_selection import train_test_split\n",
    "from utils import plot_conf_matrix\n",
    "from sklearn.ensemble import RandomForestClassifier\n",
    "X_train, X_test, y_train, y_test = train_test_split(X_best, y_res, test_size=0.2, random_state=42, stratify=y_res)\n",
    "rf = RandomForestClassifier(n_estimators=100, random_state=42)\n",
    "rf.fit(X_train, y_train)\n",
    "y_pred = rf.predict(X_test)\n",
    "classes = sorted(df['ObesityLevel'].unique())\n",
    "plot_conf_matrix(y_test, y_pred, classes)"
   ]
  },
  {
   "cell_type": "markdown",
   "metadata": {},
   "source": [
    "# Key Learnings\n",
    "- Handling imbalanced datasets with SMOTE\n",
    "- Feature selection and model tuning\n",
    "- Cross-validation for reliability\n",
    "- Insights on lifestyle predictors for health"
   ]
  }
 ],
 "metadata": {
  "kernelspec": {
   "display_name": "Python 3",
   "language": "python",
   "name": "python3"
  },
  "language_info": {
   "name": "python",
   "version": "3.8"
  }
 },
 "nbformat": 4,
 "nbformat_minor": 1
}
